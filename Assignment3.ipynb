{
 "cells": [
  {
   "cell_type": "markdown",
   "id": "1776ab67-eb44-472b-a79d-42eb2842b7c2",
   "metadata": {},
   "source": [
    "# Q.1. Why are functions advantageous to have in your programs?"
   ]
  },
  {
   "cell_type": "markdown",
   "id": "557470d8-ab39-4418-bc0d-f39f270b4c96",
   "metadata": {},
   "source": [
    "Ans: Functions reduce the need for duplicate code. This makes programs shorter, easier to read, and easier to update."
   ]
  },
  {
   "cell_type": "markdown",
   "id": "79ac5514-f094-4b63-843c-999f3a300328",
   "metadata": {},
   "source": [
    "# Q.2. When does the code in a function run: when it&#39;s specified or when it&#39;s called?"
   ]
  },
  {
   "cell_type": "markdown",
   "id": "9e2ca9b3-995c-4961-ac14-50bb7ad2aae7",
   "metadata": {},
   "source": [
    "Ans: The code in a function executes when the function is called, not when the function is defined."
   ]
  },
  {
   "cell_type": "markdown",
   "id": "d3a486a1-9ddb-44d4-8392-0b6a273be8a3",
   "metadata": {},
   "source": [
    "# Q.3. What statement creates a function?"
   ]
  },
  {
   "cell_type": "markdown",
   "id": "2783e932-7c0e-49f1-8774-bde897c93e1d",
   "metadata": {},
   "source": [
    "Ans: The def statement defines (that is, creates) a function."
   ]
  },
  {
   "cell_type": "markdown",
   "id": "cbb25627-b584-440e-a7e9-835cbbbc65af",
   "metadata": {},
   "source": [
    "# Q.4. What is the difference between a function and a function call?"
   ]
  },
  {
   "cell_type": "markdown",
   "id": "466b7112-f60f-49e4-92d2-0e6c9a469935",
   "metadata": {},
   "source": [
    "Ans: A function consists of the def statement and the code in its def clause.\n",
    "\n",
    "A function call is what moves the program execution into the function, and the function call evaluates to the function's return value."
   ]
  },
  {
   "cell_type": "markdown",
   "id": "0fc7d52a-b470-42ed-9fe7-e57ce2946381",
   "metadata": {},
   "source": [
    "# Q.5. How many global scopes are there in a Python program? How many local scopes?"
   ]
  },
  {
   "cell_type": "markdown",
   "id": "b0a47fdc-6516-4e99-a8d3-34eec2e8bf41",
   "metadata": {},
   "source": [
    "Ans: There is one global scope, and a local scope is created whenever a function is called."
   ]
  },
  {
   "cell_type": "markdown",
   "id": "ae370568-fadb-49b5-8931-ce2f0715c66c",
   "metadata": {},
   "source": [
    "# Q.6. What happens to variables in a local scope when the function call returns?"
   ]
  },
  {
   "cell_type": "markdown",
   "id": "f9bf5d14-cc68-4798-82cb-24500cbc40ef",
   "metadata": {},
   "source": [
    "Ans: When a function returns, the local scope is destroyed, and all the variables in it are forgotten"
   ]
  },
  {
   "cell_type": "markdown",
   "id": "6c782852-2950-4c16-872a-8626ff8f87e6",
   "metadata": {},
   "source": [
    "# Q.7. What is the concept of a return value? Is it possible to have a return value in an expression?"
   ]
  },
  {
   "cell_type": "markdown",
   "id": "d420af3b-1f14-47cb-bc63-562bd34ec3c2",
   "metadata": {},
   "source": [
    "Ans: A return value is the value that a function call evaluates to. Like any value, a return value can be used as part of an expression."
   ]
  },
  {
   "cell_type": "markdown",
   "id": "6c8f67ac-2ac3-4955-b9ef-c0d105a4787b",
   "metadata": {},
   "source": [
    "# Q.8. If a function does not have a return statement, what is the return value of a call to that function?"
   ]
  },
  {
   "cell_type": "markdown",
   "id": "b13cbe60-d9d1-475b-902c-449ff6e299c6",
   "metadata": {},
   "source": [
    "Ans: If there is no return statement for a function, its return value is None."
   ]
  },
  {
   "cell_type": "markdown",
   "id": "ca06dbc3-8f76-4e4c-afe7-3d95071f59f3",
   "metadata": {},
   "source": [
    "# Q.9. How do you make a function variable refer to the global variable?"
   ]
  },
  {
   "cell_type": "markdown",
   "id": "34410a22-d03f-4a3d-8afe-8e42e26fec52",
   "metadata": {},
   "source": [
    "Ans: A global statement will force a variable in a function to refer to the global variable."
   ]
  },
  {
   "cell_type": "markdown",
   "id": "fa39d099-f3cd-401f-ae33-2e647faaa0ad",
   "metadata": {},
   "source": [
    "# Q.10. What is the data type of None?"
   ]
  },
  {
   "cell_type": "markdown",
   "id": "0af48f74-2eba-4319-bcf7-6d2c89476011",
   "metadata": {},
   "source": [
    "Ans: The data type of None is NoneType."
   ]
  },
  {
   "cell_type": "markdown",
   "id": "41a312e8-9be7-4344-b507-66e0884c959a",
   "metadata": {},
   "source": [
    "# Q.11. What does the sentence import areallyourpetsnamederic do?"
   ]
  },
  {
   "cell_type": "markdown",
   "id": "eaa1fe65-77b3-4917-929d-240d77daf889",
   "metadata": {},
   "source": [
    "Ans: That import statement imports a module named areallyourpetsnamederic. (This isn't a real Python module, by the way.)"
   ]
  },
  {
   "cell_type": "markdown",
   "id": "1aead9eb-2f7c-4257-aa2c-54c5cc3c3a53",
   "metadata": {},
   "source": [
    "# Q.12. If you had a bacon() feature in a spam module, what would you call it after importing spam?"
   ]
  },
  {
   "cell_type": "code",
   "execution_count": null,
   "id": "42844919-c81d-49fe-92fc-7659cd860bf4",
   "metadata": {},
   "outputs": [],
   "source": [
    "Ans: "
   ]
  },
  {
   "cell_type": "markdown",
   "id": "f100be9b-68eb-43d5-9dbe-ac5e75dbd8e1",
   "metadata": {},
   "source": [
    "# Q.13. What can you do to save a programme from crashing if it encounters an error?"
   ]
  },
  {
   "cell_type": "code",
   "execution_count": null,
   "id": "8767b185-2610-43d4-87e1-270be56312b3",
   "metadata": {},
   "outputs": [],
   "source": [
    "Ans:"
   ]
  },
  {
   "cell_type": "markdown",
   "id": "ab33b6d5-ee6b-4ff8-aaa6-f07aacd50c0f",
   "metadata": {},
   "source": [
    "# Q.14. What is the purpose of the try clause? What is the purpose of the except clause?"
   ]
  },
  {
   "cell_type": "code",
   "execution_count": null,
   "id": "b4dcdb0a-6720-40f5-8289-32e59896a153",
   "metadata": {},
   "outputs": [],
   "source": [
    "Ans:"
   ]
  }
 ],
 "metadata": {
  "kernelspec": {
   "display_name": "Python 3 (ipykernel)",
   "language": "python",
   "name": "python3"
  },
  "language_info": {
   "codemirror_mode": {
    "name": "ipython",
    "version": 3
   },
   "file_extension": ".py",
   "mimetype": "text/x-python",
   "name": "python",
   "nbconvert_exporter": "python",
   "pygments_lexer": "ipython3",
   "version": "3.10.6"
  }
 },
 "nbformat": 4,
 "nbformat_minor": 5
}
